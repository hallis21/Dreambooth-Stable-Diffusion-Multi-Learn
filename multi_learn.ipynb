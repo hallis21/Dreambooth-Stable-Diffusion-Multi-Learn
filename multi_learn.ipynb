{
 "cells": [
  {
   "cell_type": "markdown",
   "metadata": {},
   "source": [
    "# Multi-Learn Dreambooth\n",
    "\n",
    "This tool is meant for automation of creating models of a person or multiple people\n",
    "NOTE: This does NOT create a single model that knows all faces, but seperate models where ONE person is known\n",
    "This tool simply make the process of making multiple models a lot easier."
   ]
  },
  {
   "cell_type": "code",
   "execution_count": null,
   "metadata": {},
   "outputs": [],
   "source": [
    "#!apt update\n",
    "#!apt -y install git\n",
    "!pip install omegaconf\n",
    "!pip install einops\n",
    "!pip install pytorch-lightning==1.6.5\n",
    "!pip install test-tube\n",
    "!pip install transformers\n",
    "!pip install kornia\n",
    "!pip install -e git+https://github.com/CompVis/taming-transformers.git@master#egg=taming-transformers\n",
    "!pip install -e git+https://github.com/openai/CLIP.git@main#egg=clip\n",
    "!pip install setuptools==59.5.0\n",
    "!pip install pillow==9.0.1\n",
    "!pip install torchmetrics==0.6.0\n",
    "!pip install -e .\n",
    "!pip install protobuf==3.20.1\n",
    "!pip install gdown\n",
    "!pip install pydrive\n",
    "!pip install -qq diffusers[\"training\"]==0.3.0 transformers ftfy\n",
    "!pip install -qq \"ipywidgets>=7,<8\"\n",
    "!pip install huggingface_hub\n",
    "!pip install ipywidgets==7.7.1"
   ]
  },
  {
   "cell_type": "code",
   "execution_count": null,
   "metadata": {},
   "outputs": [],
   "source": [
    "!git clone https://github.com/djbielejeski/Stable-Diffusion-Regularization-Images-person_ddim.git\n",
    "!mkdir -p outputs/txt2img-samples/samples/person_ddim\n",
    "!mv -v Stable-Diffusion-Regularization-Images-person_ddim/person_ddim/*.* outputs/txt2img-samples/samples/person_ddim\n"
   ]
  },
  {
   "cell_type": "code",
   "execution_count": null,
   "metadata": {},
   "outputs": [],
   "source": [
    "\n",
    "!gdown https://drive.google.com/uc?id=1LQUnD_v9iFx66XBTyZR9AkXWzgTiCQ6R -O model.ckpt"
   ]
  },
  {
   "cell_type": "code",
   "execution_count": null,
   "metadata": {},
   "outputs": [],
   "source": [
    "!mkdir training_images"
   ]
  },
  {
   "cell_type": "code",
   "execution_count": null,
   "metadata": {},
   "outputs": [],
   "source": [
    "models_to_train = [\n",
    "    \"ralvholmsen\"\n",
    "]"
   ]
  },
  {
   "cell_type": "code",
   "execution_count": null,
   "metadata": {},
   "outputs": [],
   "source": [
    "import os\n",
    "\n",
    "for new_model in models_to_train:\n",
    "    project_name = new_model\n",
    "    \n",
    "    with open(\"ldm/data/__init__.py\", \"w\") as f:\n",
    "        f.write(f'word_to_train = \"{new_model}\" ')\n",
    "    \n",
    "\n",
    "    # MAX STEPS\n",
    "    # It's how long you want your training to go.\n",
    "    # If you're seeing this message, I'm literally at my computer right now fixing this up:\n",
    "    max_training_steps = 1000\n",
    "\n",
    "    class_word = \"person\"  # << match this word to the class word from regularization images above\n",
    "    reg_data_root = \"/workspace/Dreambooth-Stable-Diffusion-Multi-Learn/outputs/txt2img-samples/samples/person_ddim\"\n",
    "    new_sample_dir = \"/workspace/Dreambooth-Stable-Diffusion-Multi-Learn/training_images/\" + new_model+\"/*\"\n",
    "\n",
    "#    !rm -rf \"/workspace/Dreambooth-Stable-Diffusion-Multi-Learn/training_samples/*\"\n",
    "    \n",
    "    !rm -rf \"/workspace/Dreambooth-Stable-Diffusion-Multi-Learn/training_samples\"\n",
    "    !mkdir \"/workspace/Dreambooth-Stable-Diffusion-Multi-Learn/training_samples\"\n",
    "    \n",
    "    !cp {new_sample_dir} \"/workspace/Dreambooth-Stable-Diffusion-Multi-Learn/training_samples/\"\n",
    "    \n",
    "    !python \"main.py\" \\\n",
    "        --base configs/stable-diffusion/v1-finetune_unfrozen.yaml \\\n",
    "        -t \\\n",
    "        --actual_resume \"model.ckpt\" \\\n",
    "        --reg_data_root {reg_data_root} \\\n",
    "        -n {project_name} \\\n",
    "        --gpus 0, \\\n",
    "        --data_root \"/workspace/Dreambooth-Stable-Diffusion-Multi-Learn/training_samples\" \\\n",
    "        --max_training_steps {max_training_steps} \\\n",
    "        --class_word class_word \\\n",
    "        --no-test\n",
    "    \n",
    "    directory_paths = !ls -d logs/*\n",
    "    last_checkpoint_file = directory_paths[-1] + \"/checkpoints/last.ckpt\"\n",
    "\n",
    "    if os.path.exists(last_checkpoint_file):\n",
    "        !python \"prune_ckpt.py\" --ckpt {last_checkpoint_file}\n",
    "\n",
    "        last_checkpoint_file_pruned = directory_paths[-1] + \"/checkpoints/last-pruned.ckpt\"\n",
    "        training_samples = !ls training_samples\n",
    "        date_string = !date +\"%Y-%m-%dT%H-%M-%S\"\n",
    "\n",
    "        file_name = date_string[-1] + \"_\" + project_name + \"_\" + str(len(training_samples)) + \"_training_images_\" +  str(max_training_steps) + \"_max_training_steps_\" + class_word + \"_class_word.ckpt\"\n",
    "        !mkdir -p trained_models\n",
    "        !mv {last_checkpoint_file_pruned} trained_models/{file_name}\n",
    "        #!cp trained_models/{file_name} ../stable-diffusion-webui/models/stable-diffusion/{new_model}"
   ]
  }
 ],
 "metadata": {
  "kernelspec": {
   "display_name": "Python 3 (ipykernel)",
   "language": "python",
   "name": "python3"
  },
  "language_info": {
   "codemirror_mode": {
    "name": "ipython",
    "version": 3
   },
   "file_extension": ".py",
   "mimetype": "text/x-python",
   "name": "python",
   "nbconvert_exporter": "python",
   "pygments_lexer": "ipython3",
   "version": "3.7.13"
  },
  "vscode": {
   "interpreter": {
    "hash": "916dbcbb3f70747c44a77c7bcd40155683ae19c65e1c03b4aa3499c5328201f1"
   }
  }
 },
 "nbformat": 4,
 "nbformat_minor": 4
}
