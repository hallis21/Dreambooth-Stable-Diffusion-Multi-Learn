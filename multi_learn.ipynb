{
 "cells": [
  {
   "cell_type": "markdown",
   "metadata": {},
   "source": [
    "# Multi-Learn Dreambooth\n",
    "\n",
    "This tool is meant for automation of creating models of a person or multiple people\n",
    "NOTE: This does NOT create a single model that knows all faces, but seperate models where ONE person is known\n",
    "This tool simply make the process of making multiple models a lot easier."
   ]
  },
  {
   "cell_type": "code",
   "execution_count": 3,
   "metadata": {},
   "outputs": [],
   "source": [
    "models_to_train = [\n",
    "    \"sterdekie\",\n",
    "    \"aquaFPS\"\n",
    "]"
   ]
  },
  {
   "cell_type": "code",
   "execution_count": 4,
   "metadata": {},
   "outputs": [
    {
     "name": "stdout",
     "output_type": "stream",
     "text": [
      "10\n"
     ]
    }
   ],
   "source": [
    "import builtins\n",
    "\n",
    "for new_model in models_to_train:\n",
    "    builtins.word_to_train = new_model\n",
    "    project_name = new_model\n",
    "\n",
    "    # MAX STEPS\n",
    "    # It's how long you want your training to go.\n",
    "    # If you're seeing this message, I'm literally at my computer right now fixing this up:\n",
    "    max_training_steps = 1000\n",
    "\n",
    "    class_word = \"person\"  # << match this word to the class word from regularization images above\n",
    "    reg_data_root = \"/workspace/Dreambooth-Stable-Diffusion/outputs/txt2img-samples/samples/person_ddim\"\n",
    "\n",
    "    !python \"main.py\" \\\n",
    "        --base configs/stable-diffusion/v1-finetune_unfrozen.yaml \\\n",
    "        -t \\\n",
    "        --actual_resume \"model.ckpt\" \\\n",
    "        --reg_data_root {reg_data_root} \\\n",
    "        -n {project_name} \\\n",
    "        --gpus 0, \\\n",
    "        --data_root \"/workspace/Dreambooth-Stable-Diffusion/training_images/\" + {new_model} \\\n",
    "        --max_training_steps {max_training_steps} \\\n",
    "        --class_word class_word \\\n",
    "        --no-test\n",
    "    \n",
    "    directory_paths = !ls -d logs/*\n",
    "    last_checkpoint_file = directory_paths[-1] + \"/checkpoints/last.ckpt\"\n",
    "\n",
    "    !python \"prune_ckpt.py\" --ckpt {last_checkpoint_file}\n",
    "\n",
    "    last_checkpoint_file_pruned = directory_paths[-1] + \"/checkpoints/last-pruned.ckpt\"\n",
    "    training_samples = !ls training_samples\n",
    "    date_string = !date +\"%Y-%m-%dT%H-%M-%S\"\n",
    "    \n",
    "    file_name = date_string[-1] + \"_\" + project_name + \"_\" + str(len(training_samples)) + \"_training_images_\" +  str(max_training_steps) + \"_max_training_steps_\" + class_word + \"_class_word.ckpt\"\n",
    "    !mkdir -p trained_models\n",
    "    !mv {last_checkpoint_file_pruned} trained_models/{file_name}"
   ]
  }
 ],
 "metadata": {
  "kernelspec": {
   "display_name": "Python 3.10.4 64-bit",
   "language": "python",
   "name": "python3"
  },
  "language_info": {
   "codemirror_mode": {
    "name": "ipython",
    "version": 3
   },
   "file_extension": ".py",
   "mimetype": "text/x-python",
   "name": "python",
   "nbconvert_exporter": "python",
   "pygments_lexer": "ipython3",
   "version": "3.10.4"
  },
  "orig_nbformat": 4,
  "vscode": {
   "interpreter": {
    "hash": "916dbcbb3f70747c44a77c7bcd40155683ae19c65e1c03b4aa3499c5328201f1"
   }
  }
 },
 "nbformat": 4,
 "nbformat_minor": 2
}
